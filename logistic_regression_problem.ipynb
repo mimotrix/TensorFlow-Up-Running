{
 "cells": [
  {
   "cell_type": "markdown",
   "metadata": {
    "collapsed": true
   },
   "source": [
    "## A Logistic Regression Problem\n",
    "### By MiMoTrix\n",
    "#### Date: September 2018"
   ]
  },
  {
   "cell_type": "code",
   "execution_count": 3,
   "metadata": {},
   "outputs": [],
   "source": [
    "import tensorflow as tf\n",
    "import pandas as pd\n",
    "import matplotlib.pyplot as plt"
   ]
  },
  {
   "cell_type": "markdown",
   "metadata": {},
   "source": [
    "##### Reads inputs from Titanic csv file using pandas"
   ]
  },
  {
   "cell_type": "code",
   "execution_count": 54,
   "metadata": {
    "collapsed": false
   },
   "outputs": [
    {
     "name": "stdout",
     "output_type": "stream",
     "text": [
      "Index(['Survived', 'Pclass', 'Sex', 'Age'], dtype='object')\n"
     ]
    },
    {
     "data": {
      "text/plain": [
       "(<tf.Tensor 'transpose_2:0' shape=(891, 5) dtype=float32>,\n <tf.Tensor 'Reshape:0' shape=(891, 1) dtype=float32>)"
      ]
     },
     "execution_count": 54,
     "metadata": {},
     "output_type": "execute_result"
    }
   ],
   "source": [
    "def inputs(file):\n",
    "    fields = ['Pclass', 'Sex', 'Age', 'Survived']\n",
    "    df = pd.read_csv(file, skipinitialspace=True, usecols=fields)\n",
    "    print(df.keys())\n",
    "    age = tf.to_float(df['Pclass'].tolist())\n",
    "    sex = []\n",
    "    for items in range(len(df['Sex'])):\n",
    "        if df['Sex'].tolist()[items] == \"male\":\n",
    "            sex.append(1)\n",
    "        else:\n",
    "            sex.append(0)\n",
    "    classOne = tf.to_float(tf.equal(df['Pclass'], [1]))\n",
    "    classTwo = tf.to_float(tf.equal(df['Pclass'], [2]))\n",
    "    classThree = tf.to_float(tf.equal(df['Pclass'], [3]))\n",
    "    features = tf.transpose(tf.stack([classOne, classTwo, classThree, sex, age]))\n",
    "    survived = tf.to_float(df['Survived'].tolist())\n",
    "    return features, tf.reshape(survived, [891,1])\n",
    "inputs(\"data/titanic.csv\")\n"
   ]
  },
  {
   "cell_type": "markdown",
   "metadata": {},
   "source": [
    "##### Initializing weights and bias with zero"
   ]
  },
  {
   "cell_type": "code",
   "execution_count": 46,
   "metadata": {},
   "outputs": [
    {
     "name": "stdout",
     "output_type": "stream",
     "text": [
      "<tf.Variable 'weights_3:0' shape=(5, 1) dtype=float32_ref> <tf.Variable 'bias_3:0' shape=() dtype=float32_ref>\n"
     ]
    }
   ],
   "source": [
    "W = tf.Variable(tf.zeros([5, 1]), name=\"weights\")\n",
    "b = tf.Variable(0., name=\"bias\")\n",
    "\n",
    "print(W, b)"
   ]
  },
  {
   "cell_type": "markdown",
   "metadata": {},
   "source": [
    "##### Combine Input and Weights and Bias"
   ]
  },
  {
   "cell_type": "code",
   "execution_count": 47,
   "metadata": {},
   "outputs": [],
   "source": [
    "def matmulMaterials(X):\n",
    "    return tf.matmul(X, W) + b"
   ]
  },
  {
   "cell_type": "markdown",
   "metadata": {},
   "source": [
    "##### Predicting Y"
   ]
  },
  {
   "cell_type": "code",
   "execution_count": 48,
   "metadata": {},
   "outputs": [],
   "source": [
    "def inference(X):\n",
    "    return tf.sigmoid(matmulMaterials(X))"
   ]
  },
  {
   "cell_type": "markdown",
   "metadata": {},
   "source": [
    "##### Loss function using Cross Entropy"
   ]
  },
  {
   "cell_type": "code",
   "execution_count": 49,
   "metadata": {},
   "outputs": [],
   "source": [
    "def loss(X, Y):\n",
    "    return tf.reduce_mean(tf.nn.sigmoid_cross_entropy_with_logits(logits=matmulMaterials(X), labels=Y))"
   ]
  },
  {
   "cell_type": "markdown",
   "metadata": {},
   "source": [
    "##### Train function with Gradient Decent Optimizer and 0.001 learning rate"
   ]
  },
  {
   "cell_type": "code",
   "execution_count": 50,
   "metadata": {},
   "outputs": [],
   "source": [
    "def train(total_loss):\n",
    "    learning_rate = 0.01\n",
    "    return tf.train.GradientDescentOptimizer(learning_rate).minimize(total_loss)"
   ]
  },
  {
   "cell_type": "markdown",
   "metadata": {},
   "source": [
    "##### Evaluating chance of survival of people ( > 0.5 will be chose as survived ) "
   ]
  },
  {
   "cell_type": "code",
   "execution_count": 51,
   "metadata": {},
   "outputs": [],
   "source": [
    "def evaluate(session, X, Y):\n",
    "    predicted = tf.cast(inference(X) > 0.5, tf.float32)\n",
    "    print(session.run(tf.reduce_mean(tf.cast(tf.equal(predicted, Y), tf.float32))))"
   ]
  },
  {
   "cell_type": "markdown",
   "metadata": {},
   "source": [
    "MAIN"
   ]
  },
  {
   "cell_type": "code",
   "execution_count": 66,
   "metadata": {
    "collapsed": false
   },
   "outputs": [
    {
     "name": "stdout",
     "output_type": "stream",
     "text": [
      "Index(['Survived', 'Pclass', 'Sex', 'Age'], dtype='object')\n"
     ]
    },
    {
     "name": "stdout",
     "output_type": "stream",
     "text": [
      "loss:  [0.69077075]\nloss:  [0.6712559]\nloss:  [0.6576315]\nloss:  [0.64795107]\nloss:  [0.6409162]\nloss:  [0.63566643]\nloss:  [0.6316286]\nloss:  [0.628421]\nloss:  [0.62578595]\nloss:  [0.62354875]\nloss:  [0.62159085]\nloss:  [0.61983156]\nloss:  [0.6182144]\nloss:  [0.6167005]\nloss:  [0.61526185]\nloss:  [0.61388135]\nloss:  [0.6125439]\nloss:  [0.61124074]\nloss:  [0.609966]\nloss:  [0.6087141]\nloss:  [0.6074817]\nloss:  [0.60626686]\nloss:  [0.6050676]\nloss:  [0.6038819]\nloss:  [0.6027096]\nloss:  [0.6015503]\nloss:  [0.6004028]\nloss:  [0.59926677]\nloss:  [0.59814256]\nloss:  [0.5970289]\nloss:  [0.59592676]\nloss:  [0.5948345]\nloss:  [0.5937532]\nloss:  [0.59268194]\nloss:  [0.591621]\nloss:  [0.59057033]\nloss:  [0.5895298]\nloss:  [0.58849883]\nloss:  [0.5874776]\nloss:  [0.58646613]\nloss:  [0.5854638]\nloss:  [0.5844712]\nloss:  [0.5834883]\nloss:  [0.5825141]\nloss:  [0.5815494]\nloss:  [0.58059394]\nloss:  [0.5796467]\nloss:  [0.57870847]\nloss:  [0.5777797]\nloss:  [0.5768596]\nloss:  [0.575947]\nloss:  [0.5750438]\nloss:  [0.5741487]\nloss:  [0.5732625]\nloss:  [0.5723834]\nloss:  [0.57151365]\nloss:  [0.57065135]\nloss:  [0.5697971]\nloss:  [0.5689506]\nloss:  [0.5681126]\nloss:  [0.56728166]\nloss:  [0.56645876]\n"
     ]
    },
    {
     "name": "stdout",
     "output_type": "stream",
     "text": [
      "loss:  [0.56564337]\nloss:  [0.56483513]\nloss:  [0.5640344]\nloss:  [0.56324124]\nloss:  [0.5624552]\nloss:  [0.56167656]\nloss:  [0.5609052]\nloss:  [0.5601404]\nloss:  [0.5593832]\nloss:  [0.55863214]\nloss:  [0.5578887]\nloss:  [0.55715156]\nloss:  [0.55642074]\nloss:  [0.5556969]\nloss:  [0.5549801]\nloss:  [0.55426943]\nloss:  [0.55356497]\nloss:  [0.5528666]\nloss:  [0.5521753]\nloss:  [0.55149037]\nloss:  [0.55081093]\nloss:  [0.550138]\nloss:  [0.5494709]\nloss:  [0.54880977]\nloss:  [0.5481547]\nloss:  [0.54750526]\nloss:  [0.5468612]\nloss:  [0.5462235]\nloss:  [0.54559135]\nloss:  [0.5449653]\nloss:  [0.5443445]\nloss:  [0.5437284]\nloss:  [0.5431192]\nloss:  [0.5425143]\nloss:  [0.5419147]\nloss:  [0.54132116]\nloss:  [0.54073244]\nloss:  [0.54014903]\n"
     ]
    },
    {
     "name": "stdout",
     "output_type": "stream",
     "text": [
      "0.78675646\n"
     ]
    }
   ],
   "source": [
    "with tf.Session() as session:\n",
    "\n",
    "    tf.global_variables_initializer().run()\n",
    "\n",
    "    X, Y = inputs('data/titanic.csv')\n",
    "    total_loss = loss(X, Y)\n",
    "    train_op = train(total_loss)\n",
    "    # actual training loop\n",
    "    training_steps = 1000\n",
    "    for step in range(training_steps):\n",
    "        session.run([train_op])\n",
    "        # for debugging and learning purposes, see how the loss gets decremented through training steps\n",
    "        if step % 10 == 0:\n",
    "            print(\"loss: \", session.run([total_loss]))\n",
    "\n",
    "    evaluate(session, X, Y)\n",
    "    session.close()"
   ]
  },
  {
   "cell_type": "code",
   "execution_count": 61,
   "metadata": {},
   "outputs": [],
   "source": [
    ""
   ]
  },
  {
   "cell_type": "code",
   "execution_count": null,
   "metadata": {},
   "outputs": [],
   "source": []
  }
 ],
 "metadata": {
  "kernelspec": {
   "display_name": "Python 2",
   "language": "python",
   "name": "python2"
  },
  "language_info": {
   "codemirror_mode": {
    "name": "ipython",
    "version": 2
   },
   "file_extension": ".py",
   "mimetype": "text/x-python",
   "name": "python",
   "nbconvert_exporter": "python",
   "pygments_lexer": "ipython2",
   "version": "2.7.6"
  }
 },
 "nbformat": 4,
 "nbformat_minor": 0
}

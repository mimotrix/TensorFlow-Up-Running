{
 "cells": [
  {
   "cell_type": "markdown",
   "metadata": {
    "collapsed": true
   },
   "source": [
    "## A Logistic Regression Problem\n",
    "### By MiMoTrix\n",
    "#### Date: September 2018"
   ]
  },
  {
   "cell_type": "code",
   "execution_count": 79,
   "metadata": {},
   "outputs": [],
   "source": [
    "import tensorflow as tf\n",
    "import pandas as pd"
   ]
  },
  {
   "cell_type": "markdown",
   "metadata": {},
   "source": [
    "##### Reads inputs from Titanic csv file using pandas"
   ]
  },
  {
   "cell_type": "code",
   "execution_count": 68,
   "metadata": {
    "collapsed": false
   },
   "outputs": [
    {
     "data": {
      "text/plain": [
       "(     Sex    Age  Pclass_1  Pclass_2  Pclass_3\n 247    0  24.00         0         1         0\n 823    0  27.00         0         0         1\n 566    1  19.00         0         0         1\n 666    1  25.00         0         1         0\n 199    0  24.00         0         1         0\n 480    1   9.00         0         0         1\n 86     1  16.00         0         0         1\n 136    0  19.00         1         0         0\n 253    1  30.00         0         0         1\n 809    0  33.00         1         0         0\n 208    0  16.00         0         0         1\n 551    1  27.00         0         1         0\n 78     1   0.83         0         1         0\n 654    0  18.00         0         0         1\n 48     1   0.00         0         0         1\n 3      0  35.00         1         0         0\n 453    1  49.00         1         0         0\n 84     0  17.00         0         1         0\n 514    1  24.00         0         0         1\n 633    1   0.00         1         0         0\n 326    1  61.00         0         0         1\n 501    0  21.00         0         0         1\n 50     1   7.00         0         0         1\n 134    1  25.00         0         1         0\n 813    0   6.00         0         0         1\n 100    0  28.00         0         0         1\n 267    1  25.00         0         0         1\n 511    1   0.00         0         0         1\n 608    0  22.00         0         1         0\n 866    0  27.00         0         1         0\n ..   ...    ...       ...       ...       ...\n 311    0  18.00         1         0         0\n 697    0   0.00         0         0         1\n 304    1   0.00         0         0         1\n 413    1   0.00         0         1         0\n 133    0  29.00         0         1         0\n 31     0   0.00         1         0         0\n 458    0  50.00         0         1         0\n 161    0  40.00         0         1         0\n 339    1  45.00         1         0         0\n 286    1  30.00         0         0         1\n 248    1  37.00         1         0         0\n 821    1  27.00         0         0         1\n 579    1  32.00         0         0         1\n 727    0   0.00         0         0         1\n 818    1  43.00         0         0         1\n 1      0  38.00         1         0         0\n 207    1  26.00         0         0         1\n 629    1   0.00         0         0         1\n 814    1  30.50         0         0         1\n 786    0  18.00         0         0         1\n 264    0   0.00         0         0         1\n 274    0   0.00         0         0         1\n 70     1  32.00         0         1         0\n 640    1  20.00         0         0         1\n 444    1   0.00         0         0         1\n 736    0  48.00         0         0         1\n 98     0  34.00         0         1         0\n 754    0  48.00         0         1         0\n 21     1  34.00         0         1         0\n 705    1  39.00         0         1         0\n \n [713 rows x 5 columns],      Survived\n 247         1\n 823         1\n 566         0\n 666         0\n 199         0\n 480         0\n 86          0\n 136         1\n 253         0\n 809         1\n 208         1\n 551         0\n 78          1\n 654         0\n 48          0\n 3           1\n 453         1\n 84          1\n 514         0\n 633         0\n 326         0\n 501         0\n 50          0\n 134         0\n 813         0\n 100         0\n 267         1\n 511         0\n 608         1\n 866         1\n ..        ...\n 311         1\n 697         1\n 304         0\n 413         0\n 133         1\n 31          1\n 458         1\n 161         1\n 339         0\n 286         1\n 248         1\n 821         1\n 579         1\n 727         1\n 818         0\n 1           1\n 207         1\n 629         0\n 814         0\n 786         1\n 264         0\n 274         1\n 70          0\n 640         0\n 444         1\n 736         0\n 98          1\n 754         1\n 21          1\n 705         0\n \n [713 rows x 1 columns],      Sex    Age  Pclass_1  Pclass_2  Pclass_3\n 0      1  22.00         0         0         1\n 11     0  58.00         1         0         0\n 13     1  39.00         0         0         1\n 20     1  35.00         0         1         0\n 29     1   0.00         0         0         1\n 34     1  28.00         1         0         0\n 35     1  42.00         1         0         0\n 38     0  18.00         0         0         1\n 39     0  14.00         0         0         1\n 41     0  27.00         0         1         0\n 45     1   0.00         0         0         1\n 47     0   0.00         0         0         1\n 52     0  49.00         1         0         0\n 55     1   0.00         1         0         0\n 59     1  11.00         0         0         1\n 60     1  22.00         0         0         1\n 62     1  45.00         1         0         0\n 67     1  19.00         0         0         1\n 68     0  17.00         0         0         1\n 73     1  26.00         0         0         1\n 77     1   0.00         0         0         1\n 83     1  28.00         1         0         0\n 88     0  23.00         1         0         0\n 94     1  59.00         0         0         1\n 95     1   0.00         0         0         1\n 104    1  37.00         0         0         1\n 108    1  38.00         0         0         1\n 114    0  17.00         0         0         1\n 122    1  32.50         0         1         0\n 123    0  32.50         0         1         0\n ..   ...    ...       ...       ...       ...\n 740    1   0.00         1         0         0\n 741    1  36.00         1         0         0\n 744    1  31.00         0         0         1\n 748    1  19.00         1         0         0\n 750    0   4.00         0         1         0\n 761    1  41.00         0         0         1\n 762    1  20.00         0         0         1\n 764    1  16.00         0         0         1\n 771    1  48.00         0         0         1\n 773    1   0.00         0         0         1\n 779    0  43.00         1         0         0\n 790    1   0.00         0         0         1\n 794    1  25.00         0         0         1\n 795    1  39.00         0         1         0\n 803    1   0.42         0         0         1\n 807    0  18.00         0         0         1\n 820    0  52.00         1         0         0\n 830    0  15.00         0         0         1\n 831    1   0.83         0         1         0\n 835    0  39.00         1         0         0\n 838    1  32.00         0         0         1\n 849    0   0.00         1         0         0\n 855    0  18.00         0         0         1\n 859    1   0.00         0         0         1\n 862    0  48.00         1         0         0\n 865    0  42.00         0         1         0\n 868    1   0.00         0         0         1\n 874    0  28.00         0         1         0\n 880    0  25.00         0         1         0\n 885    0  39.00         0         0         1\n \n [178 rows x 5 columns],      Survived\n 0           0\n 11          1\n 13          0\n 20          0\n 29          0\n 34          0\n 35          0\n 38          0\n 39          1\n 41          0\n 45          0\n 47          1\n 52          1\n 55          1\n 59          0\n 60          0\n 62          0\n 67          0\n 68          1\n 73          0\n 77          0\n 83          0\n 88          1\n 94          0\n 95          0\n 104         0\n 108         0\n 114         0\n 122         0\n 123         1\n ..        ...\n 740         1\n 741         0\n 744         1\n 748         0\n 750         1\n 761         0\n 762         1\n 764         0\n 771         0\n 773         0\n 779         1\n 790         0\n 794         0\n 795         0\n 803         1\n 807         0\n 820         1\n 830         1\n 831         1\n 835         1\n 838         1\n 849         1\n 855         1\n 859         0\n 862         1\n 865         1\n 868         0\n 874         1\n 880         1\n 885         0\n \n [178 rows x 1 columns])"
      ]
     },
     "execution_count": 68,
     "metadata": {},
     "output_type": "execute_result"
    }
   ],
   "source": [
    "def inputs(file):\n",
    "    data = pd.read_csv(file)\n",
    "    data[\"Age\"].fillna(0, inplace=True)\n",
    "    data.head()\n",
    "    data.replace({\"Sex\": {\"male\": 1, \"female\": 0}}, inplace=True)\n",
    "    train_data = data.sample(frac=0.8, random_state=99)\n",
    "    test_data = data.loc[~data.index.isin(train_data.index), :]\n",
    "    X_train = train_data.loc[:, ['Pclass', 'Sex', 'Age']]\n",
    "    X_train = pd.get_dummies(X_train, columns=['Pclass'])\n",
    "    X_test = test_data.loc[:, ['Pclass', 'Sex', 'Age']]\n",
    "    X_test = pd.get_dummies(X_test, columns=['Pclass'])\n",
    "    Y_train = train_data.loc[:, ['Survived']]\n",
    "    Y_test = test_data.loc[:, ['Survived']]\n",
    "    return X_train, Y_train, X_test, Y_test\n",
    "X_train, Y_train, X_test, Y_test = inputs(\"data/titanic.csv\")\n",
    "inputs(\"data/titanic.csv\")"
   ]
  },
  {
   "cell_type": "markdown",
   "metadata": {},
   "source": [
    "##### Initializing weights and bias with zero"
   ]
  },
  {
   "cell_type": "code",
   "execution_count": 69,
   "metadata": {},
   "outputs": [
    {
     "name": "stdout",
     "output_type": "stream",
     "text": [
      "<tf.Variable 'weights_4:0' shape=(5, 1) dtype=float32_ref> <tf.Variable 'bias_4:0' shape=() dtype=float32_ref>\n"
     ]
    }
   ],
   "source": [
    "W = tf.Variable(tf.zeros([5, 1]), name=\"weights\")\n",
    "b = tf.Variable(0., name=\"bias\")\n",
    "print(W, b)"
   ]
  },
  {
   "cell_type": "markdown",
   "metadata": {},
   "source": [
    "##### Combine Input and Weights and Bias"
   ]
  },
  {
   "cell_type": "code",
   "execution_count": 70,
   "metadata": {},
   "outputs": [],
   "source": [
    "def matmulMaterials(X):\n",
    "    return tf.matmul(tf.cast(X, tf.float32), W) + b"
   ]
  },
  {
   "cell_type": "markdown",
   "metadata": {},
   "source": [
    "##### Predicting Y"
   ]
  },
  {
   "cell_type": "code",
   "execution_count": 71,
   "metadata": {},
   "outputs": [],
   "source": [
    "def inference(X):\n",
    "    return tf.sigmoid(matmulMaterials(X))"
   ]
  },
  {
   "cell_type": "markdown",
   "metadata": {},
   "source": [
    "##### Loss function using Cross Entropy"
   ]
  },
  {
   "cell_type": "code",
   "execution_count": 49,
   "metadata": {},
   "outputs": [],
   "source": [
    "def loss(X, Y):\n",
    "    return tf.reduce_mean(tf.nn.sigmoid_cross_entropy_with_logits(logits=matmulMaterials(X), labels=Y))"
   ]
  },
  {
   "cell_type": "markdown",
   "metadata": {},
   "source": [
    "##### Train function with Gradient Decent Optimizer and 0.001 learning rate"
   ]
  },
  {
   "cell_type": "code",
   "execution_count": 50,
   "metadata": {},
   "outputs": [],
   "source": [
    "def train(total_loss):\n",
    "    learning_rate = 0.01\n",
    "    return tf.train.GradientDescentOptimizer(learning_rate).minimize(total_loss)"
   ]
  },
  {
   "cell_type": "markdown",
   "metadata": {},
   "source": [
    "##### Evaluating chance of survival of people ( > 0.5 will be chose as survived ) "
   ]
  },
  {
   "cell_type": "code",
   "execution_count": 82,
   "metadata": {},
   "outputs": [],
   "source": [
    "def evaluate(session, X, Y):\n",
    "    predicted = tf.cast(inference(X) > 0.5, tf.float32)\n",
    "    print(\"Accuracy: \", session.run(tf.reduce_mean(tf.cast(tf.equal(predicted, tf.cast(Y, tf.float32)), tf.float32))))"
   ]
  },
  {
   "cell_type": "markdown",
   "metadata": {},
   "source": [
    "##### MiniBatch Implemention"
   ]
  },
  {
   "cell_type": "code",
   "execution_count": 83,
   "metadata": {},
   "outputs": [],
   "source": [
    "def miniBatch(size):\n",
    "    with tf.Session() as session:\n",
    "        tf.global_variables_initializer().run()\n",
    "        training_steps = 100\n",
    "        for epoch in range(training_steps):\n",
    "            for i in range(0, X_train.shape[0], size):\n",
    "                session.run(train_op, feed_dict={x: X_train[i:i+size], y: Y_train[i:i+size]})\n",
    "        evaluate(session, X_test, Y_test)\n",
    "        session.close()\n",
    "    return \" \""
   ]
  },
  {
   "cell_type": "markdown",
   "metadata": {},
   "source": [
    "MAIN"
   ]
  },
  {
   "cell_type": "code",
   "execution_count": 84,
   "metadata": {
    "collapsed": false
   },
   "outputs": [
    {
     "name": "stdout",
     "output_type": "stream",
     "text": [
      "Accuracy:  0.78089887\nBatch Size = 1  \nExecution Time:  83.13866019248962\n"
     ]
    },
    {
     "name": "stdout",
     "output_type": "stream",
     "text": [
      "Accuracy:  0.48876405\nBatch Size = 5  \nExecution Time:  15.476040840148926\n"
     ]
    },
    {
     "name": "stdout",
     "output_type": "stream",
     "text": [
      "Accuracy:  0.5224719\nBatch Size = 10  \nExecution Time:  7.946897029876709\n"
     ]
    },
    {
     "name": "stdout",
     "output_type": "stream",
     "text": [
      "Accuracy:  0.64606744\nBatch Size = 100  \nExecution Time:  1.5575919151306152\n"
     ]
    }
   ],
   "source": [
    "x = tf.placeholder(dtype=tf.float32, shape=(None, X_train.shape[1]))\n",
    "y = tf.placeholder(dtype=tf.float32, shape=(None, Y_train.shape[1]))\n",
    "loss_func = loss(x, y)\n",
    "train_op = train(loss_func)\n",
    "import time\n",
    "now = time.time()\n",
    "print(\"Batch Size = 1\", miniBatch(1))\n",
    "print(\"Execution Time: \", time.time()-now)\n",
    "now = time.time()\n",
    "print(\"Batch Size = 5\", miniBatch(5))\n",
    "print(\"Execution Time: \", time.time()-now)\n",
    "now = time.time()\n",
    "print(\"Batch Size = 10\", miniBatch(10))\n",
    "print(\"Execution Time: \", time.time()-now)\n",
    "now = time.time()\n",
    "print(\"Batch Size = 100\", miniBatch(100))\n",
    "print(\"Execution Time: \", time.time()-now)"
   ]
  },
  {
   "cell_type": "code",
   "execution_count": 61,
   "metadata": {},
   "outputs": [],
   "source": [
    ""
   ]
  },
  {
   "cell_type": "code",
   "execution_count": null,
   "metadata": {},
   "outputs": [],
   "source": []
  }
 ],
 "metadata": {
  "kernelspec": {
   "display_name": "Python 2",
   "language": "python",
   "name": "python2"
  },
  "language_info": {
   "codemirror_mode": {
    "name": "ipython",
    "version": 2
   },
   "file_extension": ".py",
   "mimetype": "text/x-python",
   "name": "python",
   "nbconvert_exporter": "python",
   "pygments_lexer": "ipython2",
   "version": "2.7.6"
  }
 },
 "nbformat": 4,
 "nbformat_minor": 0
}

{
 "cells": [
  {
   "cell_type": "markdown",
   "metadata": {},
   "source": [
    "## A Linear Regression Problem\n",
    "### By MiMoTrix\n",
    "#### Date: September 19, 2018"
   ]
  },
  {
   "cell_type": "code",
   "execution_count": 1,
   "metadata": {
    "collapsed": true
   },
   "outputs": [],
   "source": [
    "import tensorflow as tf\n",
    "import pandas as pd\n",
    "import numpy as np\n",
    "import matplotlib.pyplot as plt"
   ]
  },
  {
   "cell_type": "markdown",
   "metadata": {},
   "source": [
    "##### Reads input from file using pandas and numpy"
   ]
  },
  {
   "cell_type": "code",
   "execution_count": 3,
   "metadata": {
    "collapsed": true
   },
   "outputs": [
    {
     "data": {
      "text/plain": [
       "([[84.0, 46.0],\n",
       "  [73.0, 20.0],\n",
       "  [65.0, 52.0],\n",
       "  [70.0, 30.0],\n",
       "  [76.0, 57.0],\n",
       "  [69.0, 25.0],\n",
       "  [63.0, 28.0],\n",
       "  [72.0, 36.0],\n",
       "  [79.0, 57.0],\n",
       "  [75.0, 44.0],\n",
       "  [27.0, 24.0],\n",
       "  [89.0, 31.0],\n",
       "  [65.0, 52.0],\n",
       "  [57.0, 23.0],\n",
       "  [59.0, 60.0],\n",
       "  [69.0, 48.0],\n",
       "  [60.0, 34.0],\n",
       "  [79.0, 51.0],\n",
       "  [75.0, 50.0],\n",
       "  [82.0, 34.0],\n",
       "  [59.0, 46.0],\n",
       "  [67.0, 23.0],\n",
       "  [85.0, 37.0],\n",
       "  [55.0, 40.0],\n",
       "  [63.0, 30.0]],\n",
       " [354.0,\n",
       "  190.0,\n",
       "  405.0,\n",
       "  263.0,\n",
       "  451.0,\n",
       "  302.0,\n",
       "  288.0,\n",
       "  385.0,\n",
       "  402.0,\n",
       "  365.0,\n",
       "  209.0,\n",
       "  290.0,\n",
       "  346.0,\n",
       "  254.0,\n",
       "  395.0,\n",
       "  434.0,\n",
       "  220.0,\n",
       "  374.0,\n",
       "  308.0,\n",
       "  220.0,\n",
       "  311.0,\n",
       "  181.0,\n",
       "  274.0,\n",
       "  303.0,\n",
       "  244.0])"
      ]
     },
     "execution_count": 3,
     "metadata": {},
     "output_type": "execute_result"
    }
   ],
   "source": [
    "def inputs(file):\n",
    "    df = pd.read_table(filepath_or_buffer=file, delimiter=\"  \", skiprows=36, header=None, usecols=[2, 3, 4], \n",
    "                       names=[\"weight\", \"age\", \"blood_fat_content\"], dtype=np.float64, engine='python')\n",
    "    weight_age = []\n",
    "    for iterator in range(len(df[\"weight\"].tolist())):\n",
    "        weight_age.append([df[\"weight\"].tolist()[iterator], df[\"age\"].tolist()[iterator]])\n",
    "    return weight_age, df[\"blood_fat_content\"].tolist()\n",
    "\n",
    "\n",
    "inputs(\"data/blood_fat.txt\")"
   ]
  },
  {
   "cell_type": "markdown",
   "metadata": {},
   "source": [
    "##### Initializing weights and bias with zero"
   ]
  },
  {
   "cell_type": "code",
   "execution_count": 5,
   "metadata": {},
   "outputs": [
    {
     "name": "stdout",
     "output_type": "stream",
     "text": [
      "<tf.Variable 'weights:0' shape=(2, 1) dtype=float32_ref> <tf.Variable 'bias:0' shape=() dtype=float32_ref>\n"
     ]
    }
   ],
   "source": [
    "W = tf.Variable(tf.zeros([2, 1]), name=\"weights\")\n",
    "b = tf.Variable(0., name=\"bias\")\n",
    "\n",
    "print(W, b)"
   ]
  },
  {
   "cell_type": "markdown",
   "metadata": {},
   "source": [
    "##### Predicting the Y matrix value"
   ]
  },
  {
   "cell_type": "code",
   "execution_count": 6,
   "metadata": {},
   "outputs": [],
   "source": [
    "def inference(X):\n",
    "    return tf.matmul(X, W) + b"
   ]
  },
  {
   "cell_type": "markdown",
   "metadata": {},
   "source": [
    "##### Loss function using SSE"
   ]
  },
  {
   "cell_type": "code",
   "execution_count": 7,
   "metadata": {},
   "outputs": [],
   "source": [
    "def loss(X, Y):\n",
    "    predicted_Y = inference(X)\n",
    "    return tf.reduce_sum(tf.squared_difference(Y, predicted_Y))"
   ]
  },
  {
   "cell_type": "markdown",
   "metadata": {},
   "source": [
    "##### Train function with Gradient Decent Optimizer and 0.0000001 learning rate"
   ]
  },
  {
   "cell_type": "code",
   "execution_count": 9,
   "metadata": {},
   "outputs": [],
   "source": [
    "def train(total_loss):\n",
    "    learning_rate = 0.0000001\n",
    "    return tf.train.GradientDescentOptimizer(learning_rate).minimize(total_loss)"
   ]
  },
  {
   "cell_type": "markdown",
   "metadata": {},
   "source": [
    "##### Evaluating the blood_fat with age 25 and weight in range of 60 to 100 "
   ]
  },
  {
   "cell_type": "code",
   "execution_count": 14,
   "metadata": {},
   "outputs": [],
   "source": [
    "def evaluate(session):\n",
    "    weight = []\n",
    "    blood_fat = []\n",
    "    for iterator in range(60, 100):\n",
    "        weight.append(iterator)\n",
    "        blood_fat.append((session.run(inference([[float(iterator), 25.]])))[0])\n",
    "    plt.plot(weight, blood_fat)\n",
    "    plt.ylabel('Blood Fat')\n",
    "    plt.xlabel('Weight')\n",
    "    plt.show()"
   ]
  },
  {
   "cell_type": "markdown",
   "metadata": {},
   "source": [
    "##### Main, creating a sessions and making the network start to learn"
   ]
  },
  {
   "cell_type": "code",
   "execution_count": 15,
   "metadata": {},
   "outputs": [
    {
     "data": {
      "image/png": "[encoded data removed]",
      "text/plain": [
       "<Figure size 432x288 with 1 Axes>"
      ]
     },
     "metadata": {},
     "output_type": "display_data"
    }
   ],
   "source": [
    "with tf.Session() as session:\n",
    "    tf.global_variables_initializer().run()\n",
    "    X, Y = inputs(\"data/blood_fat.txt\")\n",
    "    total_loss = loss(X, Y)\n",
    "    train_op = train(total_loss)\n",
    "    training_steps = 1000\n",
    "    for step in range(training_steps):\n",
    "        session.run([train_op])\n",
    "    evaluate(session)\n",
    "    session.close()\n"
   ]
  },
  {
   "cell_type": "code",
   "execution_count": null,
   "metadata": {},
   "outputs": [],
   "source": [
    "\n"
   ]
  }
 ],
 "metadata": {
  "kernelspec": {
   "display_name": "Python 3",
   "language": "python",
   "name": "python3"
  },
  "language_info": {
   "codemirror_mode": {
    "name": "ipython",
    "version": 3
   },
   "file_extension": ".py",
   "mimetype": "text/x-python",
   "name": "python",
   "nbconvert_exporter": "python",
   "pygments_lexer": "ipython3",
   "version": "3.6.5"
  }
 },
 "nbformat": 4,
 "nbformat_minor": 1
}

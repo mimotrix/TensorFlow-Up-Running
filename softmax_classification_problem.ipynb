{
 "cells": [
  {
   "cell_type": "markdown",
   "metadata": {
    "collapsed": true
   },
   "source": [
    "## A Softmax Classification Problem\n",
    "### By MiMoTrix\n",
    "#### Date: September 2018"
   ]
  },
  {
   "cell_type": "code",
   "execution_count": 45,
   "metadata": {},
   "outputs": [],
   "source": [
    "import tensorflow as tf\n",
    "import pandas as pd\n",
    "import matplotlib.pyplot as plt\n",
    "x_names = ['SepalLengthCm', 'SepalWidthCm', 'PetalLengthCm', 'PetalWidthCm']\n",
    "y_names = ['Species_Iris-setosa', 'Species_Iris-versicolor', 'Species_Iris-virginica']"
   ]
  },
  {
   "cell_type": "markdown",
   "metadata": {},
   "source": [
    "##### Reads inputs from IRIS_DATA file using pandas"
   ]
  },
  {
   "cell_type": "code",
   "execution_count": 46,
   "metadata": {},
   "outputs": [
    {
     "data": {
      "text/plain": [
       "(     SepalLengthCm  SepalWidthCm  PetalLengthCm  PetalWidthCm  \\\n 121            5.6           2.8            4.9           2.0   \n 6              4.6           3.4            1.4           0.3   \n 145            6.7           3.0            5.2           2.3   \n 91             6.1           3.0            4.6           1.4   \n 128            6.4           2.8            5.6           2.1   \n 46             5.1           3.8            1.6           0.2   \n 52             6.9           3.1            4.9           1.5   \n 115            6.4           3.2            5.3           2.3   \n 60             5.0           2.0            3.5           1.0   \n 129            7.2           3.0            5.8           1.6   \n 133            6.3           2.8            5.1           1.5   \n 25             5.0           3.0            1.6           0.2   \n 42             4.4           3.2            1.3           0.2   \n 11             4.8           3.4            1.6           0.2   \n 85             6.0           3.4            4.5           1.6   \n 110            6.5           3.2            5.1           2.0   \n 80             5.5           2.4            3.8           1.1   \n 61             5.9           3.0            4.2           1.5   \n 14             5.8           4.0            1.2           0.2   \n 54             6.5           2.8            4.6           1.5   \n 94             5.6           2.7            4.2           1.3   \n 1              4.9           3.0            1.4           0.2   \n 72             6.3           2.5            4.9           1.5   \n 3              4.6           3.1            1.5           0.2   \n 100            6.3           3.3            6.0           2.5   \n 29             4.7           3.2            1.6           0.2   \n 34             4.9           3.1            1.5           0.1   \n 136            6.3           3.4            5.6           2.4   \n 105            7.6           3.0            6.6           2.1   \n 118            7.7           2.6            6.9           2.3   \n ..             ...           ...            ...           ...   \n 148            6.2           3.4            5.4           2.3   \n 15             5.7           4.4            1.5           0.4   \n 59             5.2           2.7            3.9           1.4   \n 56             6.3           3.3            4.7           1.6   \n 19             5.1           3.8            1.5           0.3   \n 24             4.8           3.4            1.9           0.2   \n 142            5.8           2.7            5.1           1.9   \n 45             4.8           3.0            1.4           0.3   \n 140            6.7           3.1            5.6           2.4   \n 98             5.1           2.5            3.0           1.1   \n 22             4.6           3.6            1.0           0.2   \n 47             4.6           3.2            1.4           0.2   \n 123            6.3           2.7            4.9           1.8   \n 132            6.4           2.8            5.6           2.2   \n 18             5.7           3.8            1.7           0.3   \n 68             6.2           2.2            4.5           1.5   \n 137            6.4           3.1            5.5           1.8   \n 36             5.5           3.5            1.3           0.2   \n 71             6.1           2.8            4.0           1.3   \n 9              4.9           3.1            1.5           0.1   \n 103            6.3           2.9            5.6           1.8   \n 124            6.7           3.3            5.7           2.1   \n 16             5.4           3.9            1.3           0.4   \n 23             5.1           3.3            1.7           0.5   \n 114            5.8           2.8            5.1           2.4   \n 50             7.0           3.2            4.7           1.4   \n 83             6.0           2.7            5.1           1.6   \n 87             6.3           2.3            4.4           1.3   \n 86             6.7           3.1            4.7           1.5   \n 35             5.0           3.2            1.2           0.2   \n \n      Species_Iris-setosa  Species_Iris-versicolor  Species_Iris-virginica  \n 121                    0                        0                       1  \n 6                      1                        0                       0  \n 145                    0                        0                       1  \n 91                     0                        1                       0  \n 128                    0                        0                       1  \n 46                     1                        0                       0  \n 52                     0                        1                       0  \n 115                    0                        0                       1  \n 60                     0                        1                       0  \n 129                    0                        0                       1  \n 133                    0                        0                       1  \n 25                     1                        0                       0  \n 42                     1                        0                       0  \n 11                     1                        0                       0  \n 85                     0                        1                       0  \n 110                    0                        0                       1  \n 80                     0                        1                       0  \n 61                     0                        1                       0  \n 14                     1                        0                       0  \n 54                     0                        1                       0  \n 94                     0                        1                       0  \n 1                      1                        0                       0  \n 72                     0                        1                       0  \n 3                      1                        0                       0  \n 100                    0                        0                       1  \n 29                     1                        0                       0  \n 34                     1                        0                       0  \n 136                    0                        0                       1  \n 105                    0                        0                       1  \n 118                    0                        0                       1  \n ..                   ...                      ...                     ...  \n 148                    0                        0                       1  \n 15                     1                        0                       0  \n 59                     0                        1                       0  \n 56                     0                        1                       0  \n 19                     1                        0                       0  \n 24                     1                        0                       0  \n 142                    0                        0                       1  \n 45                     1                        0                       0  \n 140                    0                        0                       1  \n 98                     0                        1                       0  \n 22                     1                        0                       0  \n 47                     1                        0                       0  \n 123                    0                        0                       1  \n 132                    0                        0                       1  \n 18                     1                        0                       0  \n 68                     0                        1                       0  \n 137                    0                        0                       1  \n 36                     1                        0                       0  \n 71                     0                        1                       0  \n 9                      1                        0                       0  \n 103                    0                        0                       1  \n 124                    0                        0                       1  \n 16                     1                        0                       0  \n 23                     1                        0                       0  \n 114                    0                        0                       1  \n 50                     0                        1                       0  \n 83                     0                        1                       0  \n 87                     0                        1                       0  \n 86                     0                        1                       0  \n 35                     1                        0                       0  \n \n [120 rows x 7 columns],\n      SepalLengthCm  SepalWidthCm  PetalLengthCm  PetalWidthCm  \\\n 7              5.0           3.4            1.5           0.2   \n 8              4.4           2.9            1.4           0.2   \n 21             5.1           3.7            1.5           0.4   \n 26             5.0           3.4            1.6           0.4   \n 27             5.2           3.5            1.5           0.2   \n 28             5.2           3.4            1.4           0.2   \n 30             4.8           3.1            1.6           0.2   \n 31             5.4           3.4            1.5           0.4   \n 32             5.2           4.1            1.5           0.1   \n 41             4.5           2.3            1.3           0.3   \n 44             5.1           3.8            1.9           0.4   \n 48             5.3           3.7            1.5           0.2   \n 49             5.0           3.3            1.4           0.2   \n 55             5.7           2.8            4.5           1.3   \n 62             6.0           2.2            4.0           1.0   \n 63             6.1           2.9            4.7           1.4   \n 64             5.6           2.9            3.6           1.3   \n 65             6.7           3.1            4.4           1.4   \n 67             5.8           2.7            4.1           1.0   \n 92             5.8           2.6            4.0           1.2   \n 93             5.0           2.3            3.3           1.0   \n 102            7.1           3.0            5.9           2.1   \n 107            7.3           2.9            6.3           1.8   \n 109            7.2           3.6            6.1           2.5   \n 113            5.7           2.5            5.0           2.0   \n 116            6.5           3.0            5.5           1.8   \n 127            6.1           3.0            4.9           1.8   \n 143            6.8           3.2            5.9           2.3   \n 144            6.7           3.3            5.7           2.5   \n 147            6.5           3.0            5.2           2.0   \n \n      Species_Iris-setosa  Species_Iris-versicolor  Species_Iris-virginica  \n 7                      1                        0                       0  \n 8                      1                        0                       0  \n 21                     1                        0                       0  \n 26                     1                        0                       0  \n 27                     1                        0                       0  \n 28                     1                        0                       0  \n 30                     1                        0                       0  \n 31                     1                        0                       0  \n 32                     1                        0                       0  \n 41                     1                        0                       0  \n 44                     1                        0                       0  \n 48                     1                        0                       0  \n 49                     1                        0                       0  \n 55                     0                        1                       0  \n 62                     0                        1                       0  \n 63                     0                        1                       0  \n 64                     0                        1                       0  \n 65                     0                        1                       0  \n 67                     0                        1                       0  \n 92                     0                        1                       0  \n 93                     0                        1                       0  \n 102                    0                        0                       1  \n 107                    0                        0                       1  \n 109                    0                        0                       1  \n 113                    0                        0                       1  \n 116                    0                        0                       1  \n 127                    0                        0                       1  \n 143                    0                        0                       1  \n 144                    0                        0                       1  \n 147                    0                        0                       1  )"
      ]
     },
     "execution_count": 46,
     "metadata": {},
     "output_type": "execute_result"
    }
   ],
   "source": [
    "def inputs(file):\n",
    "    data = pd.read_table(filepath_or_buffer=file, delimiter=\",\", header=None, names=x_names + ['Species'])\n",
    "    data = pd.get_dummies(data)\n",
    "    train_set = data.sample(frac=0.8)\n",
    "    test_set = data.drop(train_set.index)\n",
    "    return train_set, test_set\n",
    "inputs('data/iris_data.txt')"
   ]
  },
  {
   "cell_type": "markdown",
   "metadata": {},
   "source": [
    "##### Predicting Y"
   ]
  },
  {
   "cell_type": "code",
   "execution_count": 47,
   "metadata": {},
   "outputs": [],
   "source": [
    "def inference(x, W, b):\n",
    "    return tf.nn.softmax(tf.matmul(x, W) + b)"
   ]
  },
  {
   "cell_type": "markdown",
   "metadata": {},
   "source": [
    "##### Initialize variables"
   ]
  },
  {
   "cell_type": "code",
   "execution_count": 48,
   "metadata": {},
   "outputs": [],
   "source": [
    "train_set, test_set = inputs(\"data/iris_data.txt\")\n",
    "train_x = train_set[x_names]\n",
    "train_y = train_set[y_names]\n",
    "test_x = test_set[x_names]\n",
    "test_y = test_set[y_names]\n",
    "x = tf.placeholder(tf.float32,[None, 4])\n",
    "W = tf.Variable(tf.zeros([4, 3]))\n",
    "b = tf.Variable(tf.zeros([3]))\n",
    "yHat = inference(x, W, b)\n",
    "y = tf.placeholder(tf.float32, [None, 3])"
   ]
  },
  {
   "cell_type": "markdown",
   "metadata": {},
   "source": [
    "##### Crosss Entropy and Accuaracy Calculations"
   ]
  },
  {
   "cell_type": "code",
   "execution_count": 49,
   "metadata": {},
   "outputs": [],
   "source": [
    "crossEntropy = tf.reduce_mean(tf.nn.softmax_cross_entropy_with_logits(labels=y, logits=yHat))\n",
    "predictionCorrection = tf.equal(tf.argmax(yHat, axis=1), tf.argmax(y, axis=1))\n",
    "accuracy = tf.reduce_mean(tf.cast(predictionCorrection, tf.float32))"
   ]
  },
  {
   "cell_type": "markdown",
   "metadata": {},
   "source": [
    "##### MAIN"
   ]
  },
  {
   "cell_type": "code",
   "execution_count": null,
   "metadata": {},
   "outputs": [
    {
     "name": "stdout",
     "output_type": "stream",
     "text": [
      "Learning Rate: 0.001000\nAccuracy: 0.300000\n"
     ]
    },
    {
     "name": "stdout",
     "output_type": "stream",
     "text": [
      "Learning Rate: 0.010000\nAccuracy: 0.300000\n"
     ]
    },
    {
     "name": "stdout",
     "output_type": "stream",
     "text": [
      "Learning Rate: 0.100000\nAccuracy: 0.300000\n"
     ]
    },
    {
     "name": "stdout",
     "output_type": "stream",
     "text": [
      "Learning Rate: 1.000000\nAccuracy: 0.400000\n"
     ]
    }
   ],
   "source": [
    "for learningRate in [0.001, 0.01, 0.1, 1.0]:\n",
    "    optimizer = tf.train.GradientDescentOptimizer(learningRate).minimize(crossEntropy)\n",
    "    with tf.Session() as session:\n",
    "        tf.global_variables_initializer().run()\n",
    "        for epoch in range(3):\n",
    "            session.run(optimizer, feed_dict={x: train_x, y: train_y})\n",
    "        acc = session.run(accuracy, feed_dict={x: test_x, y: test_y})\n",
    "        print(\"Learning Rate: %f\" % learningRate)\n",
    "        print(\"Accuracy: %f\" % acc)\n",
    "        session.close()"
   ]
  },
  {
   "cell_type": "code",
   "execution_count": 52,
   "metadata": {},
   "outputs": [],
   "source": []
  },
  {
   "cell_type": "code",
   "execution_count": null,
   "metadata": {},
   "outputs": [],
   "source": []
  }
 ],
 "metadata": {
  "kernelspec": {
   "display_name": "Python 2",
   "language": "python",
   "name": "python2"
  },
  "language_info": {
   "codemirror_mode": {
    "name": "ipython",
    "version": 2
   },
   "file_extension": ".py",
   "mimetype": "text/x-python",
   "name": "python",
   "nbconvert_exporter": "python",
   "pygments_lexer": "ipython2",
   "version": "2.7.6"
  }
 },
 "nbformat": 4,
 "nbformat_minor": 0
}

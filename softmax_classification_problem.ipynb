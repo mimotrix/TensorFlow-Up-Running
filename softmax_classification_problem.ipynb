{
 "cells": [
  {
   "cell_type": "markdown",
   "metadata": {
    "collapsed": true
   },
   "source": [
    "## A Softmax Classification Problem\n",
    "### By MiMoTrix\n",
    "#### Date: September 2018"
   ]
  },
  {
   "cell_type": "code",
   "execution_count": 17,
   "metadata": {},
   "outputs": [],
   "source": [
    "import tensorflow as tf\n",
    "import pandas as pd\n",
    "import matplotlib.pyplot as plt\n",
    "x_names = ['SepalLengthCm', 'SepalWidthCm', 'PetalLengthCm', 'PetalWidthCm']\n",
    "y_names = ['Species_Iris-setosa', 'Species_Iris-versicolor', 'Species_Iris-virginica']"
   ]
  },
  {
   "cell_type": "markdown",
   "metadata": {},
   "source": [
    "##### Reads inputs from IRIS_DATA file using pandas"
   ]
  },
  {
   "cell_type": "code",
   "execution_count": 19,
   "metadata": {},
   "outputs": [
    {
     "data": {
      "text/plain": [
       "(     SepalLengthCm  SepalWidthCm  PetalLengthCm  PetalWidthCm  \\\n 66             5.6           3.0            4.5           1.5   \n 46             5.1           3.8            1.6           0.2   \n 68             6.2           2.2            4.5           1.5   \n 41             4.5           2.3            1.3           0.3   \n 32             5.2           4.1            1.5           0.1   \n 81             5.5           2.4            3.7           1.0   \n 67             5.8           2.7            4.1           1.0   \n 44             5.1           3.8            1.9           0.4   \n 139            6.9           3.1            5.4           2.1   \n 16             5.4           3.9            1.3           0.4   \n 34             4.9           3.1            1.5           0.1   \n 133            6.3           2.8            5.1           1.5   \n 117            7.7           3.8            6.7           2.2   \n 126            6.2           2.8            4.8           1.8   \n 20             5.4           3.4            1.7           0.2   \n 11             4.8           3.4            1.6           0.2   \n 98             5.1           2.5            3.0           1.1   \n 30             4.8           3.1            1.6           0.2   \n 84             5.4           3.0            4.5           1.5   \n 58             6.6           2.9            4.6           1.3   \n 146            6.3           2.5            5.0           1.9   \n 136            6.3           3.4            5.6           2.4   \n 96             5.7           2.9            4.2           1.3   \n 36             5.5           3.5            1.3           0.2   \n 43             5.0           3.5            1.6           0.6   \n 76             6.8           2.8            4.8           1.4   \n 127            6.1           3.0            4.9           1.8   \n 138            6.0           3.0            4.8           1.8   \n 42             4.4           3.2            1.3           0.2   \n 23             5.1           3.3            1.7           0.5   \n ..             ...           ...            ...           ...   \n 112            6.8           3.0            5.5           2.1   \n 119            6.0           2.2            5.0           1.5   \n 35             5.0           3.2            1.2           0.2   \n 51             6.4           3.2            4.5           1.5   \n 107            7.3           2.9            6.3           1.8   \n 85             6.0           3.4            4.5           1.6   \n 24             4.8           3.4            1.9           0.2   \n 78             6.0           2.9            4.5           1.5   \n 143            6.8           3.2            5.9           2.3   \n 5              5.4           3.9            1.7           0.4   \n 73             6.1           2.8            4.7           1.2   \n 80             5.5           2.4            3.8           1.1   \n 60             5.0           2.0            3.5           1.0   \n 148            6.2           3.4            5.4           2.3   \n 130            7.4           2.8            6.1           1.9   \n 71             6.1           2.8            4.0           1.3   \n 21             5.1           3.7            1.5           0.4   \n 91             6.1           3.0            4.6           1.4   \n 116            6.5           3.0            5.5           1.8   \n 75             6.6           3.0            4.4           1.4   \n 149            5.9           3.0            5.1           1.8   \n 65             6.7           3.1            4.4           1.4   \n 111            6.4           2.7            5.3           1.9   \n 137            6.4           3.1            5.5           1.8   \n 99             5.7           2.8            4.1           1.3   \n 3              4.6           3.1            1.5           0.2   \n 13             4.3           3.0            1.1           0.1   \n 106            4.9           2.5            4.5           1.7   \n 77             6.7           3.0            5.0           1.7   \n 53             5.5           2.3            4.0           1.3   \n \n      Species_Iris-setosa  Species_Iris-versicolor  Species_Iris-virginica  \n 66                     0                        1                       0  \n 46                     1                        0                       0  \n 68                     0                        1                       0  \n 41                     1                        0                       0  \n 32                     1                        0                       0  \n 81                     0                        1                       0  \n 67                     0                        1                       0  \n 44                     1                        0                       0  \n 139                    0                        0                       1  \n 16                     1                        0                       0  \n 34                     1                        0                       0  \n 133                    0                        0                       1  \n 117                    0                        0                       1  \n 126                    0                        0                       1  \n 20                     1                        0                       0  \n 11                     1                        0                       0  \n 98                     0                        1                       0  \n 30                     1                        0                       0  \n 84                     0                        1                       0  \n 58                     0                        1                       0  \n 146                    0                        0                       1  \n 136                    0                        0                       1  \n 96                     0                        1                       0  \n 36                     1                        0                       0  \n 43                     1                        0                       0  \n 76                     0                        1                       0  \n 127                    0                        0                       1  \n 138                    0                        0                       1  \n 42                     1                        0                       0  \n 23                     1                        0                       0  \n ..                   ...                      ...                     ...  \n 112                    0                        0                       1  \n 119                    0                        0                       1  \n 35                     1                        0                       0  \n 51                     0                        1                       0  \n 107                    0                        0                       1  \n 85                     0                        1                       0  \n 24                     1                        0                       0  \n 78                     0                        1                       0  \n 143                    0                        0                       1  \n 5                      1                        0                       0  \n 73                     0                        1                       0  \n 80                     0                        1                       0  \n 60                     0                        1                       0  \n 148                    0                        0                       1  \n 130                    0                        0                       1  \n 71                     0                        1                       0  \n 21                     1                        0                       0  \n 91                     0                        1                       0  \n 116                    0                        0                       1  \n 75                     0                        1                       0  \n 149                    0                        0                       1  \n 65                     0                        1                       0  \n 111                    0                        0                       1  \n 137                    0                        0                       1  \n 99                     0                        1                       0  \n 3                      1                        0                       0  \n 13                     1                        0                       0  \n 106                    0                        0                       1  \n 77                     0                        1                       0  \n 53                     0                        1                       0  \n \n [120 rows x 7 columns],\n      SepalLengthCm  SepalWidthCm  PetalLengthCm  PetalWidthCm  \\\n 2              4.7           3.2            1.3           0.2   \n 6              4.6           3.4            1.4           0.3   \n 8              4.4           2.9            1.4           0.2   \n 10             5.4           3.7            1.5           0.2   \n 15             5.7           4.4            1.5           0.4   \n 19             5.1           3.8            1.5           0.3   \n 27             5.2           3.5            1.5           0.2   \n 38             4.4           3.0            1.3           0.2   \n 39             5.1           3.4            1.5           0.2   \n 40             5.0           3.5            1.3           0.3   \n 47             4.6           3.2            1.4           0.2   \n 55             5.7           2.8            4.5           1.3   \n 61             5.9           3.0            4.2           1.5   \n 69             5.6           2.5            3.9           1.1   \n 72             6.3           2.5            4.9           1.5   \n 87             6.3           2.3            4.4           1.3   \n 88             5.6           3.0            4.1           1.3   \n 90             5.5           2.6            4.4           1.2   \n 95             5.7           3.0            4.2           1.2   \n 97             6.2           2.9            4.3           1.3   \n 104            6.5           3.0            5.8           2.2   \n 108            6.7           2.5            5.8           1.8   \n 109            7.2           3.6            6.1           2.5   \n 110            6.5           3.2            5.1           2.0   \n 113            5.7           2.5            5.0           2.0   \n 115            6.4           3.2            5.3           2.3   \n 120            6.9           3.2            5.7           2.3   \n 125            7.2           3.2            6.0           1.8   \n 134            6.1           2.6            5.6           1.4   \n 147            6.5           3.0            5.2           2.0   \n \n      Species_Iris-setosa  Species_Iris-versicolor  Species_Iris-virginica  \n 2                      1                        0                       0  \n 6                      1                        0                       0  \n 8                      1                        0                       0  \n 10                     1                        0                       0  \n 15                     1                        0                       0  \n 19                     1                        0                       0  \n 27                     1                        0                       0  \n 38                     1                        0                       0  \n 39                     1                        0                       0  \n 40                     1                        0                       0  \n 47                     1                        0                       0  \n 55                     0                        1                       0  \n 61                     0                        1                       0  \n 69                     0                        1                       0  \n 72                     0                        1                       0  \n 87                     0                        1                       0  \n 88                     0                        1                       0  \n 90                     0                        1                       0  \n 95                     0                        1                       0  \n 97                     0                        1                       0  \n 104                    0                        0                       1  \n 108                    0                        0                       1  \n 109                    0                        0                       1  \n 110                    0                        0                       1  \n 113                    0                        0                       1  \n 115                    0                        0                       1  \n 120                    0                        0                       1  \n 125                    0                        0                       1  \n 134                    0                        0                       1  \n 147                    0                        0                       1  )"
      ]
     },
     "execution_count": 19,
     "metadata": {},
     "output_type": "execute_result"
    }
   ],
   "source": [
    "def inputs(file):\n",
    "    data = pd.read_table(filepath_or_buffer=file, delimiter=\",\", header=None, names=x_names + ['Species'])\n",
    "    data = pd.get_dummies(data)\n",
    "    train_set = data.sample(frac=0.8)\n",
    "    test_set = data.drop(train_set.index)\n",
    "    return train_set, test_set\n",
    "inputs('data/iris_data.txt')"
   ]
  },
  {
   "cell_type": "markdown",
   "metadata": {},
   "source": [
    "##### Predicting Y"
   ]
  },
  {
   "cell_type": "code",
   "execution_count": 9,
   "metadata": {},
   "outputs": [],
   "source": [
    "def inference(x, W, b):\n",
    "    return tf.nn.softmax(tf.matmul(x, W) + b)"
   ]
  },
  {
   "cell_type": "markdown",
   "metadata": {},
   "source": [
    "##### Initialize variables"
   ]
  },
  {
   "cell_type": "code",
   "execution_count": 20,
   "metadata": {},
   "outputs": [],
   "source": [
    "train_set, test_set = inputs(\"data/iris_data.txt\")\n",
    "train_x = train_set[x_names]\n",
    "train_y = train_set[y_names]\n",
    "test_x = test_set[x_names]\n",
    "test_y = test_set[y_names]\n",
    "x = tf.placeholder(tf.float32,[None, 4])\n",
    "W = tf.Variable(tf.zeros([4, 3]))\n",
    "b = tf.Variable(tf.zeros([3]))\n",
    "yHat = inference(x, W, b)\n",
    "y = tf.placeholder(tf.float32, [None, 3])"
   ]
  },
  {
   "cell_type": "markdown",
   "metadata": {},
   "source": [
    "##### Crosss Entropy and Accuaracy Calculations"
   ]
  },
  {
   "cell_type": "code",
   "execution_count": 35,
   "metadata": {},
   "outputs": [],
   "source": [
    "crossEntropy = tf.reduce_mean(tf.nn.softmax_cross_entropy_with_logits(labels=y, logits=yHat))\n",
    "predictionCorrection = tf.equal(tf.argmax(yHat, axis=1), tf.argmax(y, axis=1))\n",
    "accuracy = tf.reduce_mean(tf.cast(predictionCorrection, tf.float32))"
   ]
  },
  {
   "cell_type": "markdown",
   "metadata": {},
   "source": [
    "##### MAIN"
   ]
  },
  {
   "cell_type": "code",
   "execution_count": null,
   "metadata": {},
   "outputs": [
    {
     "name": "stdout",
     "output_type": "stream",
     "text": [
      "Learning Rate: 0.001000\nAccuracy: 0.200000\n"
     ]
    },
    {
     "name": "stdout",
     "output_type": "stream",
     "text": [
      "Learning Rate: 0.010000\nAccuracy: 0.200000\n"
     ]
    },
    {
     "name": "stdout",
     "output_type": "stream",
     "text": [
      "Learning Rate: 0.100000\nAccuracy: 0.200000\n"
     ]
    },
    {
     "name": "stdout",
     "output_type": "stream",
     "text": [
      "Learning Rate: 1.000000\nAccuracy: 0.633333\n"
     ]
    }
   ],
   "source": [
    "for learningRate in [0.001, 0.01, 0.1, 1.0]:\n",
    "    optimizer = tf.train.GradientDescentOptimizer(learningRate).minimize(crossEntropy)\n",
    "    with tf.Session() as session:\n",
    "        tf.global_variables_initializer().run()\n",
    "        for epoch in range(3):\n",
    "            session.run(optimizer, feed_dict={x: train_x, y: train_y})\n",
    "        acc = session.run(accuracy, feed_dict={x: test_x, y: test_y})\n",
    "        print(\"Learning Rate: %f\" % learningRate)\n",
    "        print(\"Accuracy: %f\" % acc)\n",
    "        session.close()"
   ]
  },
  {
   "cell_type": "code",
   "execution_count": null,
   "metadata": {},
   "outputs": [],
   "source": []
  }
 ],
 "metadata": {
  "kernelspec": {
   "display_name": "Python 2",
   "language": "python",
   "name": "python2"
  },
  "language_info": {
   "codemirror_mode": {
    "name": "ipython",
    "version": 2
   },
   "file_extension": ".py",
   "mimetype": "text/x-python",
   "name": "python",
   "nbconvert_exporter": "python",
   "pygments_lexer": "ipython2",
   "version": "2.7.6"
  }
 },
 "nbformat": 4,
 "nbformat_minor": 0
}
